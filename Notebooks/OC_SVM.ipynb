{
 "cells": [
  {
   "cell_type": "code",
   "execution_count": null,
   "id": "d9099d13-e91a-4264-8f91-6d7a5f01d15f",
   "metadata": {},
   "outputs": [
    {
     "name": "stdout",
     "output_type": "stream",
     "text": [
      "Train Set Shape: (1618172, 15), Labels: (1618172,)\n",
      "Test Set Shape: (404543, 15), Labels: (404543,)\n",
      "\n",
      "Converted Labels: Normal (1) | Anomaly (-1)\n",
      "Training One-Class SVM model...\n"
     ]
    }
   ],
   "source": [
    "\"\"\"\n",
    "Notebook: One-Class SVM Model Training for INADS\n",
    "-------------------------------------------------\n",
    "Objective:\n",
    "- Train a One-Class SVM model for anomaly detection in network traffic.\n",
    "- Evaluate model performance using accuracy, confusion matrix, and ROC-AUC.\n",
    "- Compare results with XGBoost and Isolation Forest.\n",
    "\n",
    "Dataset:\n",
    "- Preprocessed train and test sets (train_set_fixed.csv, test_set_fixed.csv).\n",
    "- Label encoding applied to convert multi-class problem into a normal vs anomaly classification.\n",
    "\n",
    "\"\"\"\n",
    "\n",
    "# ===============================\n",
    "# Step 1: Import Necessary Libraries\n",
    "# ===============================\n",
    "\n",
    "import pandas as pd\n",
    "import numpy as np\n",
    "import matplotlib.pyplot as plt\n",
    "import seaborn as sns\n",
    "from sklearn.svm import OneClassSVM\n",
    "from sklearn.metrics import accuracy_score, classification_report, confusion_matrix, roc_auc_score, roc_curve\n",
    "\n",
    "# ===============================\n",
    "# Step 2: Load the Train and Test Sets\n",
    "# ===============================\n",
    "\n",
    "# Define dataset paths\n",
    "train_path = r\"C:\\Users\\S569652\\Documents\\INADS\\data\\train_set_fixed.csv\"\n",
    "test_path = r\"C:\\Users\\S569652\\Documents\\INADS\\data\\test_set_fixed.csv\"\n",
    "\n",
    "# Load datasets\n",
    "train_df = pd.read_csv(train_path)\n",
    "test_df = pd.read_csv(test_path)\n",
    "\n",
    "# Separate features and labels\n",
    "X_train = train_df.drop(columns=[\"Label\"])  # Features\n",
    "y_train = train_df[\"Label\"]  # Labels\n",
    "\n",
    "X_test = test_df.drop(columns=[\"Label\"])  # Features\n",
    "y_test = test_df[\"Label\"]  # Labels\n",
    "\n",
    "# Check dataset shapes\n",
    "print(f\"Train Set Shape: {X_train.shape}, Labels: {y_train.shape}\")\n",
    "print(f\"Test Set Shape: {X_test.shape}, Labels: {y_test.shape}\")\n",
    "\n",
    "# ===============================\n",
    "# Step 3: Convert Multi-Class Labels into Binary (Normal vs Anomaly)\n",
    "# ===============================\n",
    "\n",
    "# Define normal and anomaly labels\n",
    "normal_label = \"Benign\"\n",
    "y_train_binary = np.where(y_train == normal_label, 1, -1)  # 1 for Normal, -1 for Anomaly\n",
    "y_test_binary = np.where(y_test == normal_label, 1, -1)  # 1 for Normal, -1 for Anomaly\n",
    "\n",
    "print(\"\\nConverted Labels: Normal (1) | Anomaly (-1)\")\n",
    "\n",
    "# ===============================\n",
    "# Step 4: Train the One-Class SVM Model\n",
    "# ===============================\n",
    "\n",
    "# Define the One-Class SVM model\n",
    "ocsvm_model = OneClassSVM(kernel=\"rbf\", nu=0.1, gamma=\"scale\")  # nu=0.1 means 10% expected anomalies\n",
    "\n",
    "print(\"Training One-Class SVM model...\")\n",
    "ocsvm_model.fit(X_train)\n",
    "\n",
    "# ===============================\n",
    "# Step 5: Model Evaluation\n",
    "# ===============================\n",
    "\n",
    "# Predict on test set\n",
    "y_pred = ocsvm_model.predict(X_test)\n",
    "\n",
    "# Map predictions to labels (convert -1 to \"Anomaly\" and 1 to \"Benign\")\n",
    "y_pred_labels = np.where(y_pred == 1, \"Benign\", \"Anomaly\")\n",
    "y_test_labels = np.where(y_test_binary == 1, \"Benign\", \"Anomaly\")\n",
    "\n",
    "# Calculate accuracy\n",
    "train_acc = accuracy_score(y_train_binary, ocsvm_model.predict(X_train))\n",
    "test_acc = accuracy_score(y_test_binary, y_pred)\n",
    "\n",
    "print(f\"\\nTrain Accuracy: {train_acc:.4f}\")\n",
    "print(f\"Test Accuracy: {test_acc:.4f}\")\n",
    "\n",
    "# Classification Report\n",
    "print(\"\\nClassification Report (Test Set):\")\n",
    "print(classification_report(y_test_labels, y_pred_labels))\n",
    "\n",
    "# ===============================\n",
    "# Step 6: Confusion Matrix\n",
    "# ===============================\n",
    "\n",
    "# Generate Confusion Matrix\n",
    "plt.figure(figsize=(8, 6))\n",
    "sns.heatmap(\n",
    "    confusion_matrix(y_test_labels, y_pred_labels),\n",
    "    annot=True,\n",
    "    fmt=\"d\",\n",
    "    cmap=\"Reds\",\n",
    "    xticklabels=[\"Benign\", \"Anomaly\"],\n",
    "    yticklabels=[\"Benign\", \"Anomaly\"]\n",
    ")\n",
    "plt.title(\"Confusion Matrix - One-Class SVM Model\", fontsize=14)\n",
    "plt.xlabel(\"Predicted Label\")\n",
    "plt.ylabel(\"True Label\")\n",
    "plt.show()\n",
    "\n",
    "# ===============================\n",
    "# Step 7: ROC-AUC Curve\n",
    "# ===============================\n",
    "\n",
    "# Convert labels to binary for ROC calculation\n",
    "y_test_binary_roc = np.where(y_test_labels == \"Benign\", 1, 0)\n",
    "y_pred_scores = ocsvm_model.decision_function(X_test)  # Get decision scores\n",
    "\n",
    "# Compute ROC-AUC score\n",
    "fpr, tpr, _ = roc_curve(y_test_binary_roc, y_pred_scores)\n",
    "auc = roc_auc_score(y_test_binary_roc, y_pred_scores)\n",
    "\n",
    "# Plot ROC Curve\n",
    "plt.figure(figsize=(8, 6))\n",
    "plt.plot(fpr, tpr, color=\"darkred\", label=f\"One-Class SVM (AUC: {auc:.2f})\")\n",
    "plt.plot([0, 1], [0, 1], \"k--\")  # Diagonal reference line\n",
    "plt.xlabel(\"False Positive Rate\")\n",
    "plt.ylabel(\"True Positive Rate\")\n",
    "plt.title(\"ROC-AUC Curve - One-Class SVM\")\n",
    "plt.legend()\n",
    "plt.show()\n",
    "\n",
    "# ===============================\n",
    "# Final Results\n",
    "# ===============================\n",
    "\n",
    "print(\"\\nFinal Evaluation Summary:\")\n",
    "print(f\"Train Accuracy: {train_acc:.4f}\")\n",
    "print(f\"Test Accuracy: {test_acc:.4f}\")\n",
    "print(\"Confusion matrix and ROC curve plotted.\")"
   ]
  },
  {
   "cell_type": "code",
   "execution_count": 5,
   "id": "529f3e1c-c105-4ba7-a1df-27bfd2aa60d4",
   "metadata": {},
   "outputs": [
    {
     "name": "stdout",
     "output_type": "stream",
     "text": [
      "Train Shape: (1618172, 16), Test Shape: (404543, 16)\n"
     ]
    }
   ],
   "source": [
    "import pandas as pd\n",
    "\n",
    "# Define dataset paths\n",
    "train_path = r\"C:\\Users\\S569652\\Documents\\INADS\\data\\train_set_fixed.csv\"\n",
    "test_path = r\"C:\\Users\\S569652\\Documents\\INADS\\data\\test_set_fixed.csv\"\n",
    "\n",
    "# Load datasets\n",
    "train_df = pd.read_csv(train_path)\n",
    "test_df = pd.read_csv(test_path)\n",
    "\n",
    "# Define the 15 best-selected features\n",
    "selected_features = [\n",
    "    'Bwd Pkt Len Mean', 'Flow IAT Mean', 'Fwd Pkt Len Mean', 'Flow IAT Std',\n",
    "    'TotLen Fwd Pkts', 'Flow Duration', 'Bwd Pkts/s', 'Flow Pkts/s',\n",
    "    'Fwd IAT Std', 'Flow Byts/s', 'Fwd Pkt Len Max', 'Flow IAT Max',\n",
    "    'Init Fwd Win Byts', 'Fwd Seg Size Min', 'Dst Port'\n",
    "]\n",
    "\n",
    "# Keep only selected features + label\n",
    "train_df = train_df[selected_features + ['Label']]\n",
    "test_df = test_df[selected_features + ['Label']]\n",
    "\n",
    "print(f\"Train Shape: {train_df.shape}, Test Shape: {test_df.shape}\")"
   ]
  },
  {
   "cell_type": "code",
   "execution_count": 6,
   "id": "12b660cf-f015-449e-9ae7-1b7f041bc037",
   "metadata": {},
   "outputs": [
    {
     "name": "stdout",
     "output_type": "stream",
     "text": [
      "Feature scaling complete.\n"
     ]
    }
   ],
   "source": [
    "from sklearn.preprocessing import MinMaxScaler\n",
    "\n",
    "# Separate features and labels\n",
    "X_train = train_df.drop(columns=[\"Label\"])\n",
    "y_train = train_df[\"Label\"]\n",
    "\n",
    "X_test = test_df.drop(columns=[\"Label\"])\n",
    "y_test = test_df[\"Label\"]\n",
    "\n",
    "# Apply MinMax Scaling\n",
    "scaler = MinMaxScaler()\n",
    "X_train_scaled = scaler.fit_transform(X_train)\n",
    "X_test_scaled = scaler.transform(X_test)\n",
    "\n",
    "print(\"Feature scaling complete.\")"
   ]
  },
  {
   "cell_type": "code",
   "execution_count": 7,
   "id": "a269e156-2001-401d-bf41-d532255d40cf",
   "metadata": {},
   "outputs": [
    {
     "name": "stdout",
     "output_type": "stream",
     "text": [
      "Labels converted to binary format.\n"
     ]
    }
   ],
   "source": [
    "# Define normal traffic label\n",
    "normal_label = \"Benign\"\n",
    "\n",
    "# Convert labels (1 for Normal, -1 for Anomaly)\n",
    "y_train_binary = (y_train == normal_label).astype(int) * 2 - 1\n",
    "y_test_binary = (y_test == normal_label).astype(int) * 2 - 1\n",
    "\n",
    "print(\"Labels converted to binary format.\")"
   ]
  },
  {
   "cell_type": "code",
   "execution_count": null,
   "id": "78ed340f-33c2-4e03-bfa1-0b400b72b05f",
   "metadata": {},
   "outputs": [
    {
     "name": "stdout",
     "output_type": "stream",
     "text": [
      "Training One-Class SVM on full dataset...\n"
     ]
    }
   ],
   "source": [
    "from sklearn.svm import OneClassSVM\n",
    "\n",
    "# Define One-Class SVM Model\n",
    "ocsvm_model = OneClassSVM(kernel=\"rbf\", nu=0.1, gamma=\"scale\")  # nu=0.1 means 10% anomalies expected\n",
    "\n",
    "print(\"Training One-Class SVM on full dataset...\")\n",
    "ocsvm_model.fit(X_train_scaled)\n",
    "print(\"Model training complete.\")"
   ]
  },
  {
   "cell_type": "code",
   "execution_count": null,
   "id": "187af1d3-fe08-46df-b7f0-7057ffccead4",
   "metadata": {},
   "outputs": [],
   "source": []
  }
 ],
 "metadata": {
  "kernelspec": {
   "display_name": "Python 3 (ipykernel)",
   "language": "python",
   "name": "python3"
  },
  "language_info": {
   "codemirror_mode": {
    "name": "ipython",
    "version": 3
   },
   "file_extension": ".py",
   "mimetype": "text/x-python",
   "name": "python",
   "nbconvert_exporter": "python",
   "pygments_lexer": "ipython3",
   "version": "3.12.7"
  }
 },
 "nbformat": 4,
 "nbformat_minor": 5
}
