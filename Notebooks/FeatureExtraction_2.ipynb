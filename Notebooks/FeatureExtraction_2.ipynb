{
 "cells": [
  {
   "cell_type": "code",
   "execution_count": null,
   "id": "60cd4a19-5b17-4a5b-8904-086db0229956",
   "metadata": {},
   "outputs": [],
   "source": [
    "import pandas as pd\n",
    "\n",
    "# File path for the 80-attribute dataset\n",
    "file_path = r\"C:\\Users\\S569652\\Documents\\INADS\\data\\Merged-Dataset-Final.csv\"\n",
    "\n",
    "# Define the selected features (15 attributes) along with Label and Timestamp\n",
    "selected_features = [\n",
    "    \"Bwd Pkt Len Mean\", \"Flow IAT Mean\", \"Fwd Pkt Len Mean\", \"Flow IAT Std\", \n",
    "    \"TotLen Fwd Pkts\", \"Flow Duration\", \"Bwd Pkts/s\", \"Flow Pkts/s\", \n",
    "    \"Fwd IAT Std\", \"Flow Byts/s\", \"Fwd Pkt Len Max\", \"Flow IAT Max\", \n",
    "    \"Init Fwd Win Byts\", \"Fwd Seg Size Min\", \"Dst Port\"\n",
    "]\n",
    "\n",
    "# Include the 'Label' and 'Timestamp' columns in the master dataset\n",
    "columns_to_select = selected_features + [\"Label\", \"Timestamp\"]\n",
    "\n",
    "# Load the dataset with only the required columns\n",
    "df = pd.read_csv(file_path, usecols=columns_to_select, engine='python', on_bad_lines='skip')\n",
    "\n",
    "print(\"Dataset shape after selecting key attributes:\", df.shape)\n",
    "print(\"Columns in the dataset:\", df.columns.tolist())"
   ]
  },
  {
   "cell_type": "code",
   "execution_count": null,
   "id": "be9824c6-260f-40e3-9782-4b5d0201d80d",
   "metadata": {},
   "outputs": [],
   "source": []
  }
 ],
 "metadata": {
  "kernelspec": {
   "display_name": "Python 3 (ipykernel)",
   "language": "python",
   "name": "python3"
  },
  "language_info": {
   "codemirror_mode": {
    "name": "ipython",
    "version": 3
   },
   "file_extension": ".py",
   "mimetype": "text/x-python",
   "name": "python",
   "nbconvert_exporter": "python",
   "pygments_lexer": "ipython3",
   "version": "3.12.7"
  }
 },
 "nbformat": 4,
 "nbformat_minor": 5
}
