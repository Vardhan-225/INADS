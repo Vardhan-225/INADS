{
 "cells": [
  {
   "cell_type": "code",
   "execution_count": 2,
   "id": "10332704-d615-4587-ad8d-8773a5935d7f",
   "metadata": {},
   "outputs": [
    {
     "name": "stderr",
     "output_type": "stream",
     "text": [
      "2025-03-18 01:45:31,127 - INFO - Loading dataset for comparative analysis...\n",
      "2025-03-18 01:45:40,801 - INFO - Loading trained models...\n",
      "/opt/anaconda3/lib/python3.12/site-packages/keras/src/saving/saving_lib.py:757: UserWarning: Skipping variable loading for optimizer 'rmsprop', because it has 10 variables whereas the saved optimizer has 18 variables. \n",
      "  saveable.load_own_variables(weights_store.get(inner_path))\n",
      "2025-03-18 01:45:40,999 - INFO - Extracting anomaly scores from models...\n"
     ]
    },
    {
     "name": "stdout",
     "output_type": "stream",
     "text": [
      "\u001b[1m70948/70948\u001b[0m \u001b[32m━━━━━━━━━━━━━━━━━━━━\u001b[0m\u001b[37m\u001b[0m \u001b[1m13s\u001b[0m 187us/step\n",
      "\u001b[1m70948/70948\u001b[0m \u001b[32m━━━━━━━━━━━━━━━━━━━━\u001b[0m\u001b[37m\u001b[0m \u001b[1m19s\u001b[0m 272us/step\n"
     ]
    },
    {
     "ename": "ValueError",
     "evalue": "Exception encountered when calling GRUCell.call().\n\n\u001b[1mDimensions must be equal, but are 13 and 32 for '{{node sequential_1/gru_1/gru_cell_1/MatMul}} = MatMul[T=DT_FLOAT, grad_a=false, grad_b=false, transpose_a=false, transpose_b=false](sequential_1/gru_1/strided_slice_1, sequential_1/gru_1/gru_cell_1/Cast/ReadVariableOp)' with input shapes: [32,13], [32,96].\u001b[0m\n\nArguments received by GRUCell.call():\n  • inputs=tf.Tensor(shape=(32, 13), dtype=float32)\n  • states=('tf.Tensor(shape=(32, 32), dtype=float32)',)\n  • training=False",
     "output_type": "error",
     "traceback": [
      "\u001b[0;31m---------------------------------------------------------------------------\u001b[0m",
      "\u001b[0;31mValueError\u001b[0m                                Traceback (most recent call last)",
      "Cell \u001b[0;32mIn[2], line 61\u001b[0m\n\u001b[1;32m     59\u001b[0m global_scores \u001b[38;5;241m=\u001b[39m np\u001b[38;5;241m.\u001b[39mmax(global_model\u001b[38;5;241m.\u001b[39mpredict(df[GLOBAL_FEATURES]), axis\u001b[38;5;241m=\u001b[39m\u001b[38;5;241m1\u001b[39m)\n\u001b[1;32m     60\u001b[0m edge_scores \u001b[38;5;241m=\u001b[39m np\u001b[38;5;241m.\u001b[39mmax(edge_model\u001b[38;5;241m.\u001b[39mpredict(np\u001b[38;5;241m.\u001b[39mexpand_dims(df[EDGE_FEATURES]\u001b[38;5;241m.\u001b[39mvalues, axis\u001b[38;5;241m=\u001b[39m\u001b[38;5;241m1\u001b[39m)), axis\u001b[38;5;241m=\u001b[39m\u001b[38;5;241m1\u001b[39m)\n\u001b[0;32m---> 61\u001b[0m device_scores \u001b[38;5;241m=\u001b[39m np\u001b[38;5;241m.\u001b[39mmax(device_model\u001b[38;5;241m.\u001b[39mpredict(np\u001b[38;5;241m.\u001b[39mexpand_dims(df[DEVICE_FEATURES]\u001b[38;5;241m.\u001b[39mvalues, axis\u001b[38;5;241m=\u001b[39m\u001b[38;5;241m1\u001b[39m)), axis\u001b[38;5;241m=\u001b[39m\u001b[38;5;241m1\u001b[39m)\n\u001b[1;32m     63\u001b[0m \u001b[38;5;66;03m# Create DataFrame for Comparison\u001b[39;00m\n\u001b[1;32m     64\u001b[0m comparison_df \u001b[38;5;241m=\u001b[39m pd\u001b[38;5;241m.\u001b[39mDataFrame({\n\u001b[1;32m     65\u001b[0m     \u001b[38;5;124m\"\u001b[39m\u001b[38;5;124mGlobal Confidence\u001b[39m\u001b[38;5;124m\"\u001b[39m: global_scores,\n\u001b[1;32m     66\u001b[0m     \u001b[38;5;124m\"\u001b[39m\u001b[38;5;124mEdge Confidence\u001b[39m\u001b[38;5;124m\"\u001b[39m: edge_scores,\n\u001b[1;32m     67\u001b[0m     \u001b[38;5;124m\"\u001b[39m\u001b[38;5;124mDevice Confidence\u001b[39m\u001b[38;5;124m\"\u001b[39m: device_scores\n\u001b[1;32m     68\u001b[0m })\n",
      "File \u001b[0;32m/opt/anaconda3/lib/python3.12/site-packages/keras/src/utils/traceback_utils.py:122\u001b[0m, in \u001b[0;36mfilter_traceback.<locals>.error_handler\u001b[0;34m(*args, **kwargs)\u001b[0m\n\u001b[1;32m    119\u001b[0m     filtered_tb \u001b[38;5;241m=\u001b[39m _process_traceback_frames(e\u001b[38;5;241m.\u001b[39m__traceback__)\n\u001b[1;32m    120\u001b[0m     \u001b[38;5;66;03m# To get the full stack trace, call:\u001b[39;00m\n\u001b[1;32m    121\u001b[0m     \u001b[38;5;66;03m# `keras.config.disable_traceback_filtering()`\u001b[39;00m\n\u001b[0;32m--> 122\u001b[0m     \u001b[38;5;28;01mraise\u001b[39;00m e\u001b[38;5;241m.\u001b[39mwith_traceback(filtered_tb) \u001b[38;5;28;01mfrom\u001b[39;00m \u001b[38;5;28;01mNone\u001b[39;00m\n\u001b[1;32m    123\u001b[0m \u001b[38;5;28;01mfinally\u001b[39;00m:\n\u001b[1;32m    124\u001b[0m     \u001b[38;5;28;01mdel\u001b[39;00m filtered_tb\n",
      "File \u001b[0;32m/opt/anaconda3/lib/python3.12/site-packages/keras/src/utils/traceback_utils.py:122\u001b[0m, in \u001b[0;36mfilter_traceback.<locals>.error_handler\u001b[0;34m(*args, **kwargs)\u001b[0m\n\u001b[1;32m    119\u001b[0m     filtered_tb \u001b[38;5;241m=\u001b[39m _process_traceback_frames(e\u001b[38;5;241m.\u001b[39m__traceback__)\n\u001b[1;32m    120\u001b[0m     \u001b[38;5;66;03m# To get the full stack trace, call:\u001b[39;00m\n\u001b[1;32m    121\u001b[0m     \u001b[38;5;66;03m# `keras.config.disable_traceback_filtering()`\u001b[39;00m\n\u001b[0;32m--> 122\u001b[0m     \u001b[38;5;28;01mraise\u001b[39;00m e\u001b[38;5;241m.\u001b[39mwith_traceback(filtered_tb) \u001b[38;5;28;01mfrom\u001b[39;00m \u001b[38;5;28;01mNone\u001b[39;00m\n\u001b[1;32m    123\u001b[0m \u001b[38;5;28;01mfinally\u001b[39;00m:\n\u001b[1;32m    124\u001b[0m     \u001b[38;5;28;01mdel\u001b[39;00m filtered_tb\n",
      "\u001b[0;31mValueError\u001b[0m: Exception encountered when calling GRUCell.call().\n\n\u001b[1mDimensions must be equal, but are 13 and 32 for '{{node sequential_1/gru_1/gru_cell_1/MatMul}} = MatMul[T=DT_FLOAT, grad_a=false, grad_b=false, transpose_a=false, transpose_b=false](sequential_1/gru_1/strided_slice_1, sequential_1/gru_1/gru_cell_1/Cast/ReadVariableOp)' with input shapes: [32,13], [32,96].\u001b[0m\n\nArguments received by GRUCell.call():\n  • inputs=tf.Tensor(shape=(32, 13), dtype=float32)\n  • states=('tf.Tensor(shape=(32, 32), dtype=float32)',)\n  • training=False"
     ]
    }
   ],
   "source": [
    "import numpy as np\n",
    "import pandas as pd\n",
    "import tensorflow as tf\n",
    "import matplotlib.pyplot as plt\n",
    "import seaborn as sns\n",
    "from tensorflow.keras.models import load_model\n",
    "from sklearn.preprocessing import StandardScaler\n",
    "import logging\n",
    "\n",
    "# Configure logging\n",
    "logging.basicConfig(level=logging.INFO, format=\"%(asctime)s - %(levelname)s - %(message)s\")\n",
    "\n",
    "# File Paths\n",
    "GLOBAL_MODEL_PATH = \"/Users/akashthanneeru/Desktop/INADS_Data/Models/Global_Layer_MLP.keras\"\n",
    "EDGE_MODEL_PATH = \"/Users/akashthanneeru/Desktop/INADS_Data/Models/Edge_Layer_LSTM_MultiClass.keras\"\n",
    "DEVICE_MODEL_PATH = \"/Users/akashthanneeru/Desktop/INADS_Data/Models/Device_Layer_AE_GRU.keras\"\n",
    "DATASET_PATH = \"/Users/akashthanneeru/Desktop/INADS_Data/Data/Indexed_Dataset_Timestamp_Processed.csv\"\n",
    "\n",
    "# Load Dataset\n",
    "logging.info(\"Loading dataset for comparative analysis...\")\n",
    "df = pd.read_csv(DATASET_PATH)\n",
    "\n",
    "# Selected Features Per Layer\n",
    "GLOBAL_FEATURES = [\n",
    "    \"Dst Port\", \"Flow Byts/s\", \"Flow IAT Mean\", \"Flow IAT Std\", \"Flow IAT Max\",\n",
    "    \"SYN Flag Cnt\", \"ACK Flag Cnt\", \"FIN Flag Cnt\", \"PSH Flag Cnt\",\n",
    "    \"Pkt Len Min\", \"Pkt Len Max\", \"Fwd Pkts/s\", \"Bwd Pkts/s\",\n",
    "    \"Fwd Pkt Len Max\", \"Bwd Pkt Len Min\", \"TotLen Fwd Pkts\",\n",
    "    \"TotLen Bwd Pkts\", \"Elapsed_Time\"\n",
    "]\n",
    "EDGE_FEATURES = [\n",
    "    \"Fwd IAT Mean\", \"Bwd IAT Mean\", \"Flow Byts/s\", \"Pkt Len Min\", \"Pkt Len Max\",\n",
    "    \"Fwd Pkt Len Max\", \"Bwd Pkt Len Min\", \"Idle Max\", \"Active Min\", \"Active Max\",\n",
    "    \"Init Fwd Win Byts\", \"Init Bwd Win Byts\", \"Fwd Seg Size Avg\", \"Bwd Seg Size Avg\",\n",
    "    \"Down/Up Ratio\", \"Subflow Fwd Pkts\", \"Hour\", \"Weekday\", \"Elapsed_Time\"\n",
    "]\n",
    "DEVICE_FEATURES = [\n",
    "    \"Dst Port\", \"Fwd Pkts/s\", \"Bwd Pkts/s\",\n",
    "    \"Fwd Pkt Len Max\", \"Bwd Pkt Len Min\",\n",
    "    \"Init Fwd Win Byts\", \"Init Bwd Win Byts\",\n",
    "    \"Active Max\", \"Active Mean\", \"Active Min\", \"Idle Max\",\n",
    "    \"Hour\", \"Elapsed_Time\"\n",
    "]\n",
    "\n",
    "# Standardize Features\n",
    "scaler = StandardScaler()\n",
    "df[GLOBAL_FEATURES] = scaler.fit_transform(df[GLOBAL_FEATURES])\n",
    "df[EDGE_FEATURES] = scaler.fit_transform(df[EDGE_FEATURES])\n",
    "df[DEVICE_FEATURES] = scaler.fit_transform(df[DEVICE_FEATURES])\n",
    "\n",
    "# Load Models\n",
    "logging.info(\"Loading trained models...\")\n",
    "global_model = load_model(GLOBAL_MODEL_PATH)\n",
    "edge_model = load_model(EDGE_MODEL_PATH)\n",
    "device_model = load_model(DEVICE_MODEL_PATH)\n",
    "\n",
    "# Extract Anomaly Scores\n",
    "logging.info(\"Extracting anomaly scores from models...\")\n",
    "global_scores = np.max(global_model.predict(df[GLOBAL_FEATURES]), axis=1)\n",
    "edge_scores = np.max(edge_model.predict(np.expand_dims(df[EDGE_FEATURES].values, axis=1)), axis=1)\n",
    "device_scores = np.max(device_model.predict(np.expand_dims(df[DEVICE_FEATURES].values, axis=1)), axis=1)\n",
    "\n",
    "# Create DataFrame for Comparison\n",
    "comparison_df = pd.DataFrame({\n",
    "    \"Global Confidence\": global_scores,\n",
    "    \"Edge Confidence\": edge_scores,\n",
    "    \"Device Confidence\": device_scores\n",
    "})\n",
    "\n",
    "# Plot Confidence Score Distributions\n",
    "plt.figure(figsize=(12, 6))\n",
    "sns.kdeplot(comparison_df[\"Global Confidence\"], label=\"Global Layer\", fill=True)\n",
    "sns.kdeplot(comparison_df[\"Edge Confidence\"], label=\"Edge Layer\", fill=True)\n",
    "sns.kdeplot(comparison_df[\"Device Confidence\"], label=\"Device Layer\", fill=True)\n",
    "plt.legend()\n",
    "plt.title(\"Confidence Score Distributions Across Layers\")\n",
    "plt.show()\n",
    "\n",
    "# Correlation Between Layer Outputs\n",
    "plt.figure(figsize=(10, 6))\n",
    "sns.heatmap(comparison_df.corr(), annot=True, cmap='coolwarm', fmt=\".2f\")\n",
    "plt.title(\"Correlation Between Anomaly Scores of Layers\")\n",
    "plt.show()\n",
    "\n",
    "logging.info(\"Comparative analysis complete.\")"
   ]
  },
  {
   "cell_type": "code",
   "execution_count": null,
   "id": "fd461e52-91cc-4b31-8942-3b580e7976cb",
   "metadata": {},
   "outputs": [],
   "source": []
  }
 ],
 "metadata": {
  "kernelspec": {
   "display_name": "Python [conda env:base] *",
   "language": "python",
   "name": "conda-base-py"
  },
  "language_info": {
   "codemirror_mode": {
    "name": "ipython",
    "version": 3
   },
   "file_extension": ".py",
   "mimetype": "text/x-python",
   "name": "python",
   "nbconvert_exporter": "python",
   "pygments_lexer": "ipython3",
   "version": "3.12.7"
  }
 },
 "nbformat": 4,
 "nbformat_minor": 5
}
