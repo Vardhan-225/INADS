{
 "cells": [
  {
   "cell_type": "code",
   "execution_count": 7,
   "id": "48d14db8-8dfa-4cde-a228-fb86f3734590",
   "metadata": {},
   "outputs": [
    {
     "name": "stdout",
     "output_type": "stream",
     "text": [
      "['Dst Port', 'Protocol', 'Timestamp', 'Flow Duration', 'Tot Fwd Pkts', 'Tot Bwd Pkts', 'TotLen Fwd Pkts', 'TotLen Bwd Pkts', 'Fwd Pkt Len Max', 'Fwd Pkt Len Min', 'Fwd Pkt Len Mean', 'Fwd Pkt Len Std', 'Bwd Pkt Len Max', 'Bwd Pkt Len Min', 'Bwd Pkt Len Mean', 'Bwd Pkt Len Std', 'Flow Byts/s', 'Flow Pkts/s', 'Flow IAT Mean', 'Flow IAT Std', 'Flow IAT Max', 'Flow IAT Min', 'Fwd IAT Tot', 'Fwd IAT Mean', 'Fwd IAT Std', 'Fwd IAT Max', 'Fwd IAT Min', 'Bwd IAT Tot', 'Bwd IAT Mean', 'Bwd IAT Std', 'Bwd IAT Max', 'Bwd IAT Min', 'Fwd PSH Flags', 'Bwd PSH Flags', 'Fwd URG Flags', 'Bwd URG Flags', 'Fwd Header Len', 'Bwd Header Len', 'Fwd Pkts/s', 'Bwd Pkts/s', 'Pkt Len Min', 'Pkt Len Max', 'Pkt Len Mean', 'Pkt Len Std', 'Pkt Len Var', 'FIN Flag Cnt', 'SYN Flag Cnt', 'RST Flag Cnt', 'PSH Flag Cnt', 'ACK Flag Cnt', 'URG Flag Cnt', 'CWE Flag Count', 'ECE Flag Cnt', 'Down/Up Ratio', 'Pkt Size Avg', 'Fwd Seg Size Avg', 'Bwd Seg Size Avg', 'Fwd Byts/b Avg', 'Fwd Pkts/b Avg', 'Fwd Blk Rate Avg', 'Bwd Byts/b Avg', 'Bwd Pkts/b Avg', 'Bwd Blk Rate Avg', 'Subflow Fwd Pkts', 'Subflow Fwd Byts', 'Subflow Bwd Pkts', 'Subflow Bwd Byts', 'Init Fwd Win Byts', 'Init Bwd Win Byts', 'Fwd Act Data Pkts', 'Fwd Seg Size Min', 'Active Mean', 'Active Std', 'Active Max', 'Active Min', 'Idle Mean', 'Idle Std', 'Idle Max', 'Idle Min', 'Label']\n"
     ]
    }
   ],
   "source": [
    "import pandas as pd\n",
    "\n",
    "sample_chunk = pd.read_csv(full_dataset_path, nrows=5, engine='python', on_bad_lines='skip')\n",
    "print(sample_chunk.columns.tolist())"
   ]
  },
  {
   "cell_type": "code",
   "execution_count": 2,
   "id": "a3c8f8c7-f0a2-4207-82f6-d977a5c5a6b6",
   "metadata": {},
   "outputs": [
    {
     "name": "stdout",
     "output_type": "stream",
     "text": [
      "Columns in final cleaned dataset (15 features):\n",
      "['Bwd Pkt Len Mean', 'Flow IAT Mean', 'Fwd Pkt Len Mean', 'Flow IAT Std', 'TotLen Fwd Pkts', 'Flow Duration', 'Bwd Pkts/s', 'Flow Pkts/s', 'Fwd IAT Std', 'Flow Byts/s', 'Fwd Pkt Len Max', 'Flow IAT Max', 'Init Fwd Win Byts', 'Fwd Seg Size Min', 'Dst Port', 'Label']\n",
      "\n",
      "Columns in full dataset (80 columns):\n",
      "['Dst Port', 'Protocol', 'Timestamp', 'Flow Duration', 'Tot Fwd Pkts', 'Tot Bwd Pkts', 'TotLen Fwd Pkts', 'TotLen Bwd Pkts', 'Fwd Pkt Len Max', 'Fwd Pkt Len Min', 'Fwd Pkt Len Mean', 'Fwd Pkt Len Std', 'Bwd Pkt Len Max', 'Bwd Pkt Len Min', 'Bwd Pkt Len Mean', 'Bwd Pkt Len Std', 'Flow Byts/s', 'Flow Pkts/s', 'Flow IAT Mean', 'Flow IAT Std', 'Flow IAT Max', 'Flow IAT Min', 'Fwd IAT Tot', 'Fwd IAT Mean', 'Fwd IAT Std', 'Fwd IAT Max', 'Fwd IAT Min', 'Bwd IAT Tot', 'Bwd IAT Mean', 'Bwd IAT Std', 'Bwd IAT Max', 'Bwd IAT Min', 'Fwd PSH Flags', 'Bwd PSH Flags', 'Fwd URG Flags', 'Bwd URG Flags', 'Fwd Header Len', 'Bwd Header Len', 'Fwd Pkts/s', 'Bwd Pkts/s', 'Pkt Len Min', 'Pkt Len Max', 'Pkt Len Mean', 'Pkt Len Std', 'Pkt Len Var', 'FIN Flag Cnt', 'SYN Flag Cnt', 'RST Flag Cnt', 'PSH Flag Cnt', 'ACK Flag Cnt', 'URG Flag Cnt', 'CWE Flag Count', 'ECE Flag Cnt', 'Down/Up Ratio', 'Pkt Size Avg', 'Fwd Seg Size Avg', 'Bwd Seg Size Avg', 'Fwd Byts/b Avg', 'Fwd Pkts/b Avg', 'Fwd Blk Rate Avg', 'Bwd Byts/b Avg', 'Bwd Pkts/b Avg', 'Bwd Blk Rate Avg', 'Subflow Fwd Pkts', 'Subflow Fwd Byts', 'Subflow Bwd Pkts', 'Subflow Bwd Byts', 'Init Fwd Win Byts', 'Init Bwd Win Byts', 'Fwd Act Data Pkts', 'Fwd Seg Size Min', 'Active Mean', 'Active Std', 'Active Max', 'Active Min', 'Idle Mean', 'Idle Std', 'Idle Max', 'Idle Min', 'Label']\n",
      "\n",
      "Common columns between both datasets:\n",
      "{'Fwd Pkt Len Mean', 'Flow Byts/s', 'Bwd Pkt Len Mean', 'Flow IAT Std', 'Flow Duration', 'Flow IAT Max', 'Dst Port', 'Fwd Pkt Len Max', 'Flow IAT Mean', 'TotLen Fwd Pkts', 'Fwd IAT Std', 'Flow Pkts/s', 'Fwd Seg Size Min', 'Bwd Pkts/s', 'Init Fwd Win Byts', 'Label'}\n"
     ]
    }
   ],
   "source": [
    "import pandas as pd\n",
    "\n",
    "# File paths\n",
    "final_cleaned_path = r\"C:\\Users\\S569652\\Documents\\INADS\\data\\feature_extraction_final.csv\"\n",
    "full_dataset_path = r\"C:\\Users\\S569652\\Documents\\INADS\\data\\Merged-Dataset-Final.csv\"\n",
    "\n",
    "# Load small samples (e.g., first 5 rows) from both datasets\n",
    "df_final_sample = pd.read_csv(final_cleaned_path, nrows=5, engine='python', on_bad_lines='skip')\n",
    "df_full_sample  = pd.read_csv(full_dataset_path, nrows=5, engine='python', on_bad_lines='skip')\n",
    "\n",
    "print(\"Columns in final cleaned dataset (15 features):\")\n",
    "print(df_final_sample.columns.tolist())\n",
    "print(\"\\nColumns in full dataset (80 columns):\")\n",
    "print(df_full_sample.columns.tolist())\n",
    "\n",
    "# Find common columns between the two datasets\n",
    "common_columns = set(df_final_sample.columns).intersection(set(df_full_sample.columns))\n",
    "print(\"\\nCommon columns between both datasets:\")\n",
    "print(common_columns)"
   ]
  },
  {
   "cell_type": "code",
   "execution_count": 6,
   "id": "2bb3607e-6cbc-4fc7-be92-df914cba7257",
   "metadata": {},
   "outputs": [
    {
     "name": "stdout",
     "output_type": "stream",
     "text": [
      "(4931575, 25)\n"
     ]
    }
   ],
   "source": [
    "import pandas as pd\n",
    "\n",
    "# Load the CSV file into a DataFrame\n",
    "df = pd.read_csv(r\"C:\\Users\\S569652\\Documents\\INADS\\data\\final_with_time_features.csv\")\n",
    "\n",
    "# Print the shape of the DataFrame\n",
    "print(df.shape)"
   ]
  },
  {
   "cell_type": "code",
   "execution_count": 8,
   "id": "44df7790-14d1-47a1-8c43-f8b4fba0536e",
   "metadata": {},
   "outputs": [
    {
     "name": "stdout",
     "output_type": "stream",
     "text": [
      "['Bwd Pkt Len Mean', 'Flow IAT Mean', 'Fwd Pkt Len Mean', 'Flow IAT Std', 'TotLen Fwd Pkts', 'Flow Duration', 'Bwd Pkts/s', 'Flow Pkts/s', 'Fwd IAT Std', 'Flow Byts/s', 'Fwd Pkt Len Max', 'Flow IAT Max', 'Init Fwd Win Byts', 'Fwd Seg Size Min', 'Dst Port', 'Label', 'composite_key', 'Timestamp', 'hour', 'minute', 'second', 'day_of_week', 'day', 'month', 'inter_arrival_time']\n"
     ]
    }
   ],
   "source": [
    "print(df.columns.tolist())"
   ]
  },
  {
   "cell_type": "code",
   "execution_count": 9,
   "id": "9a67a7af-5df3-4936-bc92-33bdc911a091",
   "metadata": {},
   "outputs": [
    {
     "name": "stdout",
     "output_type": "stream",
     "text": [
      "(2022715, 16)\n"
     ]
    }
   ],
   "source": [
    "import pandas as pd\n",
    "\n",
    "# Load the CSV file into a DataFrame\n",
    "df = pd.read_csv(r\"C:\\Users\\S569652\\Documents\\INADS\\data\\feature_extraction_final.csv\")\n",
    "\n",
    "# Print the shape of the DataFrame\n",
    "print(df.shape)"
   ]
  },
  {
   "cell_type": "code",
   "execution_count": null,
   "id": "c791b859-fef1-4df6-8088-368f983eaac3",
   "metadata": {},
   "outputs": [],
   "source": []
  }
 ],
 "metadata": {
  "kernelspec": {
   "display_name": "Python 3 (ipykernel)",
   "language": "python",
   "name": "python3"
  },
  "language_info": {
   "codemirror_mode": {
    "name": "ipython",
    "version": 3
   },
   "file_extension": ".py",
   "mimetype": "text/x-python",
   "name": "python",
   "nbconvert_exporter": "python",
   "pygments_lexer": "ipython3",
   "version": "3.12.7"
  }
 },
 "nbformat": 4,
 "nbformat_minor": 5
}
