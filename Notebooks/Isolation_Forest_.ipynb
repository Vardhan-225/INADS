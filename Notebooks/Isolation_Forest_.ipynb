{
 "cells": [
  {
   "cell_type": "code",
   "execution_count": 25,
   "id": "60cd4a19-5b17-4a5b-8904-086db0229956",
   "metadata": {},
   "outputs": [
    {
     "name": "stdout",
     "output_type": "stream",
     "text": [
      "Train Dataset Loaded! Shape: (1618172, 16)\n",
      "Test Dataset Loaded! Shape: (404543, 16)\n"
     ]
    }
   ],
   "source": [
    "import pandas as pd\n",
    "\n",
    "train_file = \"/Users/akashthanneeru/Desktop/INADS_Data/Data/train_set_fixed.csv\"\n",
    "test_file = \"/Users/akashthanneeru/Desktop/INADS_Data/Data/test_set_fixed.csv\"\n",
    "\n",
    "# Reload datasets\n",
    "train_df = pd.read_csv(train_file, encoding=\"utf-8\")\n",
    "test_df = pd.read_csv(test_file, encoding=\"utf-8\")\n",
    "\n",
    "print(\"Train Dataset Loaded! Shape:\", train_df.shape)\n",
    "print(\"Test Dataset Loaded! Shape:\", test_df.shape)"
   ]
  },
  {
   "cell_type": "code",
   "execution_count": 27,
   "id": "be9824c6-260f-40e3-9782-4b5d0201d80d",
   "metadata": {},
   "outputs": [
    {
     "name": "stdout",
     "output_type": "stream",
     "text": [
      "Confusion Matrix:\n",
      " [[  4524 133775]\n",
      " [ 36505 229739]]\n",
      "\n",
      "Classification Report:\n",
      "               precision    recall  f1-score   support\n",
      "\n",
      " Attack (-1)       0.11      0.03      0.05    138299\n",
      "  Benign (1)       0.63      0.86      0.73    266244\n",
      "\n",
      "    accuracy                           0.58    404543\n",
      "   macro avg       0.37      0.45      0.39    404543\n",
      "weighted avg       0.45      0.58      0.50    404543\n",
      "\n"
     ]
    }
   ],
   "source": [
    "from sklearn.ensemble import IsolationForest\n",
    "from sklearn.preprocessing import StandardScaler\n",
    "from sklearn.metrics import classification_report, confusion_matrix\n",
    "import numpy as np\n",
    "\n",
    "# Prepare data (Remove label column for training, since Isolation Forest is unsupervised)\n",
    "features = [col for col in train_df.columns if col != \"Label\"]\n",
    "\n",
    "# Standardize the feature values for better performance\n",
    "scaler = StandardScaler()\n",
    "X_train = scaler.fit_transform(train_df[features])\n",
    "X_test = scaler.transform(test_df[features])  # Use the same scaler for test set\n",
    "\n",
    "# Train Isolation Forest\n",
    "iso_forest = IsolationForest(n_estimators=100, contamination=\"auto\", random_state=42)\n",
    "iso_forest.fit(X_train)\n",
    "\n",
    "# Predict anomalies (-1 = anomaly, 1 = normal)\n",
    "test_predictions = iso_forest.predict(X_test)\n",
    "\n",
    "# Convert to binary format (to match ground truth: \"Benign\" → 1, \"Attack\" → -1)\n",
    "y_test = np.where(test_df[\"Label\"] == \"Benign\", 1, -1)\n",
    "\n",
    "# Compare predictions vs. actual labels\n",
    "conf_matrix = confusion_matrix(y_test, test_predictions)\n",
    "class_report = classification_report(y_test, test_predictions, target_names=[\"Attack (-1)\", \"Benign (1)\"])\n",
    "\n",
    "print(\"Confusion Matrix:\\n\", conf_matrix)\n",
    "print(\"\\nClassification Report:\\n\", class_report)"
   ]
  },
  {
   "cell_type": "code",
   "execution_count": 29,
   "id": "5c3bc15a-07c6-40df-9fc6-01c1e701f876",
   "metadata": {},
   "outputs": [
    {
     "name": "stdout",
     "output_type": "stream",
     "text": [
      "Train Set Distribution:\n",
      " Label\n",
      "Benign                    65.813461\n",
      "DDoS attacks-LOIC-HTTP    28.485229\n",
      "Infilteration              3.117963\n",
      "DoS attacks-GoldenEye      2.049473\n",
      "DoS attacks-Slowloris      0.508475\n",
      "Brute Force -Web           0.017921\n",
      "Brute Force -XSS           0.007478\n",
      "Name: proportion, dtype: float64\n",
      "\n",
      "Test Set Distribution:\n",
      " Label\n",
      "Benign                    65.813523\n",
      "DDoS attacks-LOIC-HTTP    28.485229\n",
      "Infilteration              3.118086\n",
      "DoS attacks-GoldenEye      2.049473\n",
      "DoS attacks-Slowloris      0.508475\n",
      "Brute Force -Web           0.017798\n",
      "Brute Force -XSS           0.007416\n",
      "Name: proportion, dtype: float64\n"
     ]
    }
   ],
   "source": [
    "# Check class distribution in train and test datasets\n",
    "train_class_distribution = train_df[\"Label\"].value_counts(normalize=True) * 100  # Percentage distribution\n",
    "test_class_distribution = test_df[\"Label\"].value_counts(normalize=True) * 100\n",
    "\n",
    "# Display results\n",
    "print(\"Train Set Distribution:\\n\", train_class_distribution)\n",
    "print(\"\\nTest Set Distribution:\\n\", test_class_distribution)"
   ]
  },
  {
   "cell_type": "code",
   "execution_count": 33,
   "id": "fd8451b8-9b30-4c07-a38e-92775ad061eb",
   "metadata": {},
   "outputs": [
    {
     "data": {
      "text/html": [
       "<div>\n",
       "<style scoped>\n",
       "    .dataframe tbody tr th:only-of-type {\n",
       "        vertical-align: middle;\n",
       "    }\n",
       "\n",
       "    .dataframe tbody tr th {\n",
       "        vertical-align: top;\n",
       "    }\n",
       "\n",
       "    .dataframe thead th {\n",
       "        text-align: right;\n",
       "    }\n",
       "</style>\n",
       "<table border=\"1\" class=\"dataframe\">\n",
       "  <thead>\n",
       "    <tr style=\"text-align: right;\">\n",
       "      <th></th>\n",
       "      <th>count</th>\n",
       "      <th>mean</th>\n",
       "      <th>std</th>\n",
       "      <th>min</th>\n",
       "      <th>25%</th>\n",
       "      <th>50%</th>\n",
       "      <th>75%</th>\n",
       "      <th>max</th>\n",
       "    </tr>\n",
       "  </thead>\n",
       "  <tbody>\n",
       "    <tr>\n",
       "      <th>Bwd Pkt Len Mean</th>\n",
       "      <td>1618172.0</td>\n",
       "      <td>1.308282e+02</td>\n",
       "      <td>1.763963e+02</td>\n",
       "      <td>0.000000</td>\n",
       "      <td>0.000000</td>\n",
       "      <td>7.700000e+01</td>\n",
       "      <td>2.258571e+02</td>\n",
       "      <td>1.827135e+03</td>\n",
       "    </tr>\n",
       "    <tr>\n",
       "      <th>Flow IAT Mean</th>\n",
       "      <td>1618172.0</td>\n",
       "      <td>8.449768e+06</td>\n",
       "      <td>2.019820e+07</td>\n",
       "      <td>0.333333</td>\n",
       "      <td>7784.666667</td>\n",
       "      <td>1.908531e+05</td>\n",
       "      <td>3.003813e+06</td>\n",
       "      <td>1.199900e+08</td>\n",
       "    </tr>\n",
       "    <tr>\n",
       "      <th>Fwd Pkt Len Mean</th>\n",
       "      <td>1618172.0</td>\n",
       "      <td>3.739131e+01</td>\n",
       "      <td>5.659224e+01</td>\n",
       "      <td>0.000000</td>\n",
       "      <td>0.000000</td>\n",
       "      <td>1.033333e+01</td>\n",
       "      <td>5.100000e+01</td>\n",
       "      <td>2.946679e+03</td>\n",
       "    </tr>\n",
       "    <tr>\n",
       "      <th>Flow IAT Std</th>\n",
       "      <td>1618172.0</td>\n",
       "      <td>1.096791e+06</td>\n",
       "      <td>4.120390e+06</td>\n",
       "      <td>0.000000</td>\n",
       "      <td>0.000000</td>\n",
       "      <td>5.781879e+03</td>\n",
       "      <td>4.681014e+05</td>\n",
       "      <td>8.418912e+07</td>\n",
       "    </tr>\n",
       "    <tr>\n",
       "      <th>TotLen Fwd Pkts</th>\n",
       "      <td>1618172.0</td>\n",
       "      <td>1.930431e+03</td>\n",
       "      <td>1.433502e+05</td>\n",
       "      <td>0.000000</td>\n",
       "      <td>0.000000</td>\n",
       "      <td>3.100000e+01</td>\n",
       "      <td>2.860000e+02</td>\n",
       "      <td>1.443918e+08</td>\n",
       "    </tr>\n",
       "    <tr>\n",
       "      <th>Flow Duration</th>\n",
       "      <td>1618172.0</td>\n",
       "      <td>1.745886e+07</td>\n",
       "      <td>3.302318e+07</td>\n",
       "      <td>1.000000</td>\n",
       "      <td>14093.000000</td>\n",
       "      <td>1.412144e+06</td>\n",
       "      <td>1.441877e+07</td>\n",
       "      <td>1.200000e+08</td>\n",
       "    </tr>\n",
       "    <tr>\n",
       "      <th>Bwd Pkts/s</th>\n",
       "      <td>1618172.0</td>\n",
       "      <td>3.864629e+03</td>\n",
       "      <td>3.747911e+04</td>\n",
       "      <td>0.000000</td>\n",
       "      <td>0.000000</td>\n",
       "      <td>2.438074e+00</td>\n",
       "      <td>2.645730e+01</td>\n",
       "      <td>2.000000e+06</td>\n",
       "    </tr>\n",
       "    <tr>\n",
       "      <th>Flow Pkts/s</th>\n",
       "      <td>1618172.0</td>\n",
       "      <td>2.389273e+04</td>\n",
       "      <td>1.865377e+05</td>\n",
       "      <td>0.016668</td>\n",
       "      <td>0.402143</td>\n",
       "      <td>5.791174e+00</td>\n",
       "      <td>1.719986e+02</td>\n",
       "      <td>4.000000e+06</td>\n",
       "    </tr>\n",
       "    <tr>\n",
       "      <th>Fwd IAT Std</th>\n",
       "      <td>1618172.0</td>\n",
       "      <td>1.000956e+06</td>\n",
       "      <td>3.848971e+06</td>\n",
       "      <td>0.000000</td>\n",
       "      <td>0.000000</td>\n",
       "      <td>9.192388e+00</td>\n",
       "      <td>4.570444e+04</td>\n",
       "      <td>8.462898e+07</td>\n",
       "    </tr>\n",
       "    <tr>\n",
       "      <th>Flow Byts/s</th>\n",
       "      <td>1618172.0</td>\n",
       "      <td>1.680158e+05</td>\n",
       "      <td>3.198542e+06</td>\n",
       "      <td>0.000000</td>\n",
       "      <td>0.000000</td>\n",
       "      <td>6.140187e+02</td>\n",
       "      <td>2.399163e+03</td>\n",
       "      <td>1.230000e+09</td>\n",
       "    </tr>\n",
       "    <tr>\n",
       "      <th>Fwd Pkt Len Max</th>\n",
       "      <td>1618172.0</td>\n",
       "      <td>1.504235e+02</td>\n",
       "      <td>2.606565e+02</td>\n",
       "      <td>0.000000</td>\n",
       "      <td>0.000000</td>\n",
       "      <td>3.000000e+01</td>\n",
       "      <td>1.480000e+02</td>\n",
       "      <td>1.002400e+04</td>\n",
       "    </tr>\n",
       "    <tr>\n",
       "      <th>Flow IAT Max</th>\n",
       "      <td>1618172.0</td>\n",
       "      <td>1.135068e+07</td>\n",
       "      <td>2.218033e+07</td>\n",
       "      <td>1.000000</td>\n",
       "      <td>13212.000000</td>\n",
       "      <td>9.780130e+05</td>\n",
       "      <td>1.000378e+07</td>\n",
       "      <td>1.199900e+08</td>\n",
       "    </tr>\n",
       "    <tr>\n",
       "      <th>Init Fwd Win Byts</th>\n",
       "      <td>1618172.0</td>\n",
       "      <td>7.722052e+03</td>\n",
       "      <td>1.387706e+04</td>\n",
       "      <td>-1.000000</td>\n",
       "      <td>251.000000</td>\n",
       "      <td>5.384000e+03</td>\n",
       "      <td>8.192000e+03</td>\n",
       "      <td>6.553500e+04</td>\n",
       "    </tr>\n",
       "    <tr>\n",
       "      <th>Fwd Seg Size Min</th>\n",
       "      <td>1618172.0</td>\n",
       "      <td>1.809045e+01</td>\n",
       "      <td>5.742782e+00</td>\n",
       "      <td>0.000000</td>\n",
       "      <td>20.000000</td>\n",
       "      <td>2.000000e+01</td>\n",
       "      <td>2.000000e+01</td>\n",
       "      <td>4.800000e+01</td>\n",
       "    </tr>\n",
       "    <tr>\n",
       "      <th>Dst Port</th>\n",
       "      <td>1618172.0</td>\n",
       "      <td>6.768279e+03</td>\n",
       "      <td>1.635920e+04</td>\n",
       "      <td>0.000000</td>\n",
       "      <td>80.000000</td>\n",
       "      <td>8.000000e+01</td>\n",
       "      <td>1.500000e+03</td>\n",
       "      <td>6.553400e+04</td>\n",
       "    </tr>\n",
       "  </tbody>\n",
       "</table>\n",
       "</div>"
      ],
      "text/plain": [
       "                       count          mean           std       min  \\\n",
       "Bwd Pkt Len Mean   1618172.0  1.308282e+02  1.763963e+02  0.000000   \n",
       "Flow IAT Mean      1618172.0  8.449768e+06  2.019820e+07  0.333333   \n",
       "Fwd Pkt Len Mean   1618172.0  3.739131e+01  5.659224e+01  0.000000   \n",
       "Flow IAT Std       1618172.0  1.096791e+06  4.120390e+06  0.000000   \n",
       "TotLen Fwd Pkts    1618172.0  1.930431e+03  1.433502e+05  0.000000   \n",
       "Flow Duration      1618172.0  1.745886e+07  3.302318e+07  1.000000   \n",
       "Bwd Pkts/s         1618172.0  3.864629e+03  3.747911e+04  0.000000   \n",
       "Flow Pkts/s        1618172.0  2.389273e+04  1.865377e+05  0.016668   \n",
       "Fwd IAT Std        1618172.0  1.000956e+06  3.848971e+06  0.000000   \n",
       "Flow Byts/s        1618172.0  1.680158e+05  3.198542e+06  0.000000   \n",
       "Fwd Pkt Len Max    1618172.0  1.504235e+02  2.606565e+02  0.000000   \n",
       "Flow IAT Max       1618172.0  1.135068e+07  2.218033e+07  1.000000   \n",
       "Init Fwd Win Byts  1618172.0  7.722052e+03  1.387706e+04 -1.000000   \n",
       "Fwd Seg Size Min   1618172.0  1.809045e+01  5.742782e+00  0.000000   \n",
       "Dst Port           1618172.0  6.768279e+03  1.635920e+04  0.000000   \n",
       "\n",
       "                            25%           50%           75%           max  \n",
       "Bwd Pkt Len Mean       0.000000  7.700000e+01  2.258571e+02  1.827135e+03  \n",
       "Flow IAT Mean       7784.666667  1.908531e+05  3.003813e+06  1.199900e+08  \n",
       "Fwd Pkt Len Mean       0.000000  1.033333e+01  5.100000e+01  2.946679e+03  \n",
       "Flow IAT Std           0.000000  5.781879e+03  4.681014e+05  8.418912e+07  \n",
       "TotLen Fwd Pkts        0.000000  3.100000e+01  2.860000e+02  1.443918e+08  \n",
       "Flow Duration      14093.000000  1.412144e+06  1.441877e+07  1.200000e+08  \n",
       "Bwd Pkts/s             0.000000  2.438074e+00  2.645730e+01  2.000000e+06  \n",
       "Flow Pkts/s            0.402143  5.791174e+00  1.719986e+02  4.000000e+06  \n",
       "Fwd IAT Std            0.000000  9.192388e+00  4.570444e+04  8.462898e+07  \n",
       "Flow Byts/s            0.000000  6.140187e+02  2.399163e+03  1.230000e+09  \n",
       "Fwd Pkt Len Max        0.000000  3.000000e+01  1.480000e+02  1.002400e+04  \n",
       "Flow IAT Max       13212.000000  9.780130e+05  1.000378e+07  1.199900e+08  \n",
       "Init Fwd Win Byts    251.000000  5.384000e+03  8.192000e+03  6.553500e+04  \n",
       "Fwd Seg Size Min      20.000000  2.000000e+01  2.000000e+01  4.800000e+01  \n",
       "Dst Port              80.000000  8.000000e+01  1.500000e+03  6.553400e+04  "
      ]
     },
     "execution_count": 33,
     "metadata": {},
     "output_type": "execute_result"
    }
   ],
   "source": [
    "# Check statistical summary of features\n",
    "train_df.describe().T"
   ]
  },
  {
   "cell_type": "code",
   "execution_count": 35,
   "id": "2ac219e7-9bae-4222-b549-5b1507977623",
   "metadata": {},
   "outputs": [
    {
     "name": "stdout",
     "output_type": "stream",
     "text": [
      "Label\n",
      "Benign                    266244\n",
      "DDoS attacks-LOIC-HTTP    115235\n",
      "Infilteration              12614\n",
      "DoS attacks-GoldenEye       8291\n",
      "DoS attacks-Slowloris       2057\n",
      "Brute Force -Web              72\n",
      "Brute Force -XSS              30\n",
      "Name: count, dtype: int64\n"
     ]
    }
   ],
   "source": [
    "# Add predictions to the test dataset\n",
    "test_df[\"Predicted_Label\"] = test_predictions  # Assuming you stored Isolation Forest's output in 'test_predictions'\n",
    "\n",
    "# Count misclassifications\n",
    "misclassified = test_df[test_df[\"Label\"] != test_df[\"Predicted_Label\"]]\n",
    "\n",
    "# Check which attack types were misclassified the most\n",
    "print(misclassified[\"Label\"].value_counts())"
   ]
  },
  {
   "cell_type": "code",
   "execution_count": 11,
   "id": "8b81ba1c-606c-4fbe-b097-c9c70efa9cb0",
   "metadata": {},
   "outputs": [
    {
     "name": "stdout",
     "output_type": "stream",
     "text": [
      " train_set_fixed.csv exists! Checking readability...\n",
      "Bwd Pkt Len Mean,Flow IAT Mean,Fwd Pkt Len Mean,Flow IAT Std,TotLen Fwd Pkts,Flow Duration,Bwd Pkts/s,Flow Pkts/s,Fwd IAT Std,Flow Byts/s,Fwd Pkt Len Max,Flow IAT Max,Init Fwd Win Byts,Fwd Seg Size Min,Dst Port,Label\n",
      "\n",
      " test_set_fixed.csv exists! Checking readability...\n",
      "Bwd Pkt Len Mean,Flow IAT Mean,Fwd Pkt Len Mean,Flow IAT Std,TotLen Fwd Pkts,Flow Duration,Bwd Pkts/s,Flow Pkts/s,Fwd IAT Std,Flow Byts/s,Fwd Pkt Len Max,Flow IAT Max,Init Fwd Win Byts,Fwd Seg Size Min,Dst Port,Label\n",
      "\n"
     ]
    }
   ],
   "source": [
    "import os\n",
    "\n",
    "dataset_path = \"/Users/akashthanneeru/Desktop/INADS_Data/Data/\"\n",
    "train_file = os.path.join(dataset_path, \"train_set_fixed.csv\")\n",
    "test_file = os.path.join(dataset_path, \"test_set_fixed.csv\")\n",
    "\n",
    "# Check if files exist and try reading the first line\n",
    "for file in [train_file, test_file]:\n",
    "    if os.path.exists(file):\n",
    "        print(f\" {os.path.basename(file)} exists! Checking readability...\")\n",
    "        with open(file, \"r\", encoding=\"utf-8\") as f:\n",
    "            print(f.readline())  # Print first line to verify format\n",
    "    else:\n",
    "        print(f\" {os.path.basename(file)} does not exist!\")"
   ]
  },
  {
   "cell_type": "code",
   "execution_count": 13,
   "id": "491d7dcf-8822-44de-a8f0-7ccaa858c342",
   "metadata": {},
   "outputs": [
    {
     "name": "stdout",
     "output_type": "stream",
     "text": [
      "Train Dataset Path: /Users/akashthanneeru/Desktop/INADS_Data/Data/train_set_fixed.csv\n",
      "Test Dataset Path: /Users/akashthanneeru/Desktop/INADS_Data/Data/test_set_fixed.csv\n",
      "Train File Exists: True\n",
      "Test File Exists: True\n"
     ]
    }
   ],
   "source": [
    "import os\n",
    "\n",
    "dataset_path = \"/Users/akashthanneeru/Desktop/INADS_Data/Data/\"\n",
    "train_file = os.path.abspath(os.path.join(dataset_path, \"train_set_fixed.csv\"))\n",
    "test_file = os.path.abspath(os.path.join(dataset_path, \"test_set_fixed.csv\"))\n",
    "\n",
    "print(\"Train Dataset Path:\", train_file)\n",
    "print(\"Test Dataset Path:\", test_file)\n",
    "\n",
    "print(\"Train File Exists:\", os.path.exists(train_file))\n",
    "print(\"Test File Exists:\", os.path.exists(test_file))"
   ]
  },
  {
   "cell_type": "code",
   "execution_count": 15,
   "id": "8f6aba5e-5788-4133-ad2f-af1f7d376fa9",
   "metadata": {},
   "outputs": [
    {
     "name": "stdout",
     "output_type": "stream",
     "text": [
      "Bwd Pkt Len Mean,Flow IAT Mean,Fwd Pkt Len Mean,Flow IAT Std,TotLen Fwd Pkts,Flow Duration,Bwd Pkts/s,Flow Pkts/s,Fwd IAT Std,Flow Byts/s,Fwd Pkt Len Max,Flow IAT Max,Init Fwd Win Byts,Fwd Seg Size Min,Dst Port,Label\n",
      "\n",
      "Bwd Pkt Len Mean,Flow IAT Mean,Fwd Pkt Len Mean,Flow IAT Std,TotLen Fwd Pkts,Flow Duration,Bwd Pkts/s,Flow Pkts/s,Fwd IAT Std,Flow Byts/s,Fwd Pkt Len Max,Flow IAT Max,Init Fwd Win Byts,Fwd Seg Size Min,Dst Port,Label\n",
      "\n"
     ]
    }
   ],
   "source": [
    "with open(\"/Users/akashthanneeru/Desktop/INADS_Data/Data/train_set_fixed.csv\", \"r\", encoding=\"utf-8\") as f:\n",
    "    print(f.readline())  # Print first line to confirm readability\n",
    "\n",
    "with open(\"/Users/akashthanneeru/Desktop/INADS_Data/Data/test_set_fixed.csv\", \"r\", encoding=\"utf-8\") as f:\n",
    "    print(f.readline())  # Print first line to confirm readability"
   ]
  },
  {
   "cell_type": "code",
   "execution_count": 19,
   "id": "4d30f71e-31b4-4eaf-81d4-d9ea115306fa",
   "metadata": {},
   "outputs": [
    {
     "name": "stdout",
     "output_type": "stream",
     "text": [
      "Train File Permissions: 644\n",
      "Test File Permissions: 644\n"
     ]
    }
   ],
   "source": [
    "import os\n",
    "\n",
    "train_file = \"/Users/akashthanneeru/Desktop/INADS_Data/Data/train_set_fixed.csv\"\n",
    "test_file = \"/Users/akashthanneeru/Desktop/INADS_Data/Data/test_set_fixed.csv\"\n",
    "\n",
    "# Check file permissions\n",
    "print(\"Train File Permissions:\", oct(os.stat(train_file).st_mode)[-3:])\n",
    "print(\"Test File Permissions:\", oct(os.stat(test_file).st_mode)[-3:])"
   ]
  },
  {
   "cell_type": "code",
   "execution_count": 21,
   "id": "b1dd4610-657b-47cb-ab96-2c9a7c7553b3",
   "metadata": {},
   "outputs": [
    {
     "name": "stdout",
     "output_type": "stream",
     "text": [
      "Jupyter Directory Listing:\n",
      "['Wednesday-28-02-2018_TrafficForML_CICFlowMeter.csv', 'DoS_Attacks_Filtered.csv', 'Merged-Dataset-Final.csv', 'feature_extraction_final.csv', 'test_set_fixed.csv', 'Benign_Traffic.csv', 'Friday-16-02-2018_TrafficForML_CICFlowMeter.csv', 'train_set_fixed.csv', 'Friday-23-02-2018_TrafficForML_CICFlowMeter.csv']\n"
     ]
    }
   ],
   "source": [
    "import os\n",
    "\n",
    "dataset_path = \"/Users/akashthanneeru/Desktop/INADS_Data/Data/\"\n",
    "print(\"Jupyter Directory Listing:\")\n",
    "print(os.listdir(dataset_path))"
   ]
  },
  {
   "cell_type": "code",
   "execution_count": 23,
   "id": "76996157-c8ed-4b25-80f1-1bc05cdb04c8",
   "metadata": {},
   "outputs": [
    {
     "name": "stdout",
     "output_type": "stream",
     "text": [
      "Train Dataset Shape: (1618172, 16)\n",
      "Test Dataset Shape: (404543, 16)\n"
     ]
    }
   ],
   "source": [
    "import pandas as pd\n",
    "\n",
    "train_file = \"/Users/akashthanneeru/Desktop/INADS_Data/Data/train_set_fixed.csv\"\n",
    "test_file = \"/Users/akashthanneeru/Desktop/INADS_Data/Data/test_set_fixed.csv\"\n",
    "\n",
    "# Force Pandas to read by explicitly opening the file\n",
    "with open(train_file, \"r\", encoding=\"utf-8\") as f:\n",
    "    train_df = pd.read_csv(f)\n",
    "    \n",
    "with open(test_file, \"r\", encoding=\"utf-8\") as f:\n",
    "    test_df = pd.read_csv(f)\n",
    "\n",
    "print(\"Train Dataset Shape:\", train_df.shape)\n",
    "print(\"Test Dataset Shape:\", test_df.shape)"
   ]
  },
  {
   "cell_type": "code",
   "execution_count": null,
   "id": "fc3d56a7-4cc9-4b3a-9584-b390deecb583",
   "metadata": {},
   "outputs": [],
   "source": []
  }
 ],
 "metadata": {
  "kernelspec": {
   "display_name": "Python [conda env:base] *",
   "language": "python",
   "name": "conda-base-py"
  },
  "language_info": {
   "codemirror_mode": {
    "name": "ipython",
    "version": 3
   },
   "file_extension": ".py",
   "mimetype": "text/x-python",
   "name": "python",
   "nbconvert_exporter": "python",
   "pygments_lexer": "ipython3",
   "version": "3.12.7"
  }
 },
 "nbformat": 4,
 "nbformat_minor": 5
}
